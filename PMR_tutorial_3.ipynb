{
 "cells": [
  {
   "cell_type": "code",
   "execution_count": 1,
   "metadata": {},
   "outputs": [],
   "source": [
    "import json\n",
    "import numpy as np\n",
    "import os\n",
    "\n",
    "from copy import deepcopy\n",
    "from itertools import product"
   ]
  },
  {
   "cell_type": "markdown",
   "metadata": {},
   "source": [
    "# Section 1"
   ]
  },
  {
   "cell_type": "markdown",
   "metadata": {},
   "source": [
    "For Section I of this notebook, we will learn how to represent and manipulate probability mass functions with code. This will allow us to numerically check if a joint probability distribution factorises according to a specific graph."
   ]
  },
  {
   "cell_type": "markdown",
   "metadata": {},
   "source": [
    "**Useful jupyter shortcuts**: \n",
    "- when you have a cell selected, shift+enter runs that cell\n",
    "- when you place your cursor inside the brackets of a function call, shift+tab shows the input parameters required and the first line of the docstring. If you continue to hold shift, and press tab again, you can see scroll through the entire docstring.\n",
    "- More useful shortcuts can be found by pressing 'Help' in the toolbar and then 'Keyboard Shortcuts'"
   ]
  },
  {
   "cell_type": "markdown",
   "metadata": {},
   "source": [
    "## How to represent discrete probability distributions with arrays: A 2D example"
   ]
  },
  {
   "cell_type": "markdown",
   "metadata": {},
   "source": [
    "Suppose we have two discrete random variables $x_0, x_1 \\in \\{0, 1, 2\\}$. We can represent a joint distribution $p(x_0, x_1)$ over these two variables using a *matrix*. For instance, we could have the following Joint Probability Distribution (JPD):\n",
    "\n"
   ]
  },
  {
   "cell_type": "code",
   "execution_count": 2,
   "metadata": {},
   "outputs": [
    {
     "name": "stdout",
     "output_type": "stream",
     "text": [
      "[[0.1  0.   0.  ]\n",
      " [0.2  0.35 0.2 ]\n",
      " [0.1  0.   0.05]]\n"
     ]
    }
   ],
   "source": [
    "jpd = np.array([\n",
    "    [0.1, 0.0, 0.0],\n",
    "    [0.2, 0.35, 0.2],\n",
    "    [0.1, 0.0, 0.05]\n",
    "         ])\n",
    "\n",
    "print(jpd)"
   ]
  },
  {
   "cell_type": "markdown",
   "metadata": {},
   "source": [
    "where the rows index states of $x_0$ and the columns index states of $x_1$. Note that this a valid distribution since all the entries are non-negative and the sum over all elements equals 1. It's good coding practice to confirm such properties:"
   ]
  },
  {
   "cell_type": "code",
   "execution_count": 3,
   "metadata": {},
   "outputs": [
    {
     "name": "stdout",
     "output_type": "stream",
     "text": [
      "Distribution is valid!\n"
     ]
    }
   ],
   "source": [
    "def check_valid_distribution(dist):\n",
    "    assert np.all(dist) >= 0, \"Not all elements are non-negative\"\n",
    "    assert np.allclose(np.sum(dist), 1), \"Sum of all probabilities equals {}, not 1\".format(np.sum(jpd))\n",
    "    print(\"Distribution is valid!\")\n",
    "\n",
    "check_valid_distribution(jpd)"
   ]
  },
  {
   "cell_type": "markdown",
   "metadata": {},
   "source": [
    "Similarly, we can represent Conditional Probability Distributions (CPDs) over $x_0, x_1$ using matrices. \n",
    "The CPD $p(x_0 | x_1)$ that we get from the above JPD can be represented as:"
   ]
  },
  {
   "cell_type": "code",
   "execution_count": 4,
   "metadata": {},
   "outputs": [
    {
     "name": "stdout",
     "output_type": "stream",
     "text": [
      "[[0.25 0.   0.  ]\n",
      " [0.5  1.   0.8 ]\n",
      " [0.25 0.   0.2 ]]\n"
     ]
    }
   ],
   "source": [
    "normalising_constants = jpd.sum(axis=0)\n",
    "cpd = jpd/normalising_constants\n",
    "print(cpd)"
   ]
  },
  {
   "cell_type": "markdown",
   "metadata": {},
   "source": [
    "Note that each *column* now represents a probability distribution over $x_0$. Hence, each column sums to 1. Let's check this:"
   ]
  },
  {
   "cell_type": "code",
   "execution_count": 5,
   "metadata": {},
   "outputs": [
    {
     "name": "stdout",
     "output_type": "stream",
     "text": [
      "Distribution is valid!\n",
      "Distribution is valid!\n",
      "Distribution is valid!\n"
     ]
    }
   ],
   "source": [
    "num_columns = cpd.shape[1]\n",
    "for j in range(num_columns):\n",
    "    check_valid_distribution(cpd[:, j])"
   ]
  },
  {
   "cell_type": "markdown",
   "metadata": {},
   "source": [
    "## Scaling up to N dimensions"
   ]
  },
  {
   "cell_type": "markdown",
   "metadata": {},
   "source": [
    "Suppose now that we have $n$ variables $X = \\{x_0, \\ldots x_{n-1}\\}$ and that we wish to represent a distribution $p(Q | E)$, where $Q, E \\subseteq X$ and $Q \\cap E = \\emptyset$.\n",
    "\n",
    "To explain the notation: we use '$Q$' for 'query' and '$E$' for 'evidence'. Intuitively, after observing some evidence $E$, we wish to query (i.e compute a distribution over) other variables of interest $Q$.\n",
    "\n",
    "$Q$ and $E$ can be represented as python sets containing the indices of their respective variables. If we suppose $|Q \\cup E| = k \\leq n$, then the distribution $p(Q | E)$ can be represented as a $k$-dimensional array $P$, where each variable in $Q \\cup E$ is associated with a dimension of P.\n",
    "\n",
    "Of course, this requires us to specify a mapping between indices of variables in $Q \\cup E$ and dimensions of $P$. We will assume an *ordering-preserving mapping*, so that the lowest index in $Q \\cup E$ corresponds to the first dimension of $P$, and the highest index to the last dimension.\n",
    "\n",
    "Thus, to represent a distribution and its domain, we use triples $(Q, E, P)$, where $E$ is allowed to be the empty set.\n",
    "\n",
    "For example, suppose we have 8 independent categorical variables (with different-sized domains), each of which is uniformly distributed:"
   ]
  },
  {
   "cell_type": "code",
   "execution_count": 7,
   "metadata": {},
   "outputs": [],
   "source": [
    "# X = {0, 1, 2, 3, 4, 5, 6, 7}  - each number represents a random variable\n",
    "# Q = {2, 4, 5}\n",
    "# E = {3, 7}\n",
    "# P = np.ones((15, 20, 10, 8, 25)) / (15*10*8)\n",
    "# dist = (Q, E, P)\n",
    "# vars_to_dim_dict = {\"2\": 0, \"3\": 1, \"4\": 2, \"5\": 3, \"7\": 4}"
   ]
  },
  {
   "cell_type": "markdown",
   "metadata": {},
   "source": [
    "where the dictionary $\\texttt{vars_to_dim_dict}$ shows the correspondence between the random variables $x_i \\ \\in Q \\cup E$ and their associated dimension in $P$.\n",
    "\n",
    "Note that the numbers $15, 20, 10, 8, 25$ have no special significance; they are just the sizes of the state spaces for each random variable."
   ]
  },
  {
   "cell_type": "markdown",
   "metadata": {},
   "source": [
    "#### IMPORTANT:\n",
    "- ***Throughtout the rest of the notebook, the term 'distribution', when used in the code, refers to $(Q, E, P)$ triplets.***\n",
    "- ***Unless instructed otherwise, do not assume that $Q \\cup E = \\{0, \\ldots, n-1\\}$ (see above example).***"
   ]
  },
  {
   "cell_type": "markdown",
   "metadata": {},
   "source": [
    "# QUESTION 1"
   ]
  },
  {
   "cell_type": "markdown",
   "metadata": {},
   "source": [
    "Write a function $\\texttt{marginalise}$ that takes as input:\n",
    "\n",
    "- A distribution  $(Q, E, P)$.\n",
    "- A set of variables to marginalise $M$.\n",
    "\n",
    "and outputs the marginal distribution.\n",
    "\n",
    "We've provided a helper method $\\texttt{get_dims_for_vars}$ that, given a set of variables $M$, returns the corresponding dimensions in $P$.\n",
    "\n",
    "For all questions, make sure to check that the inputs to your function are valid! We've provided a method $\\texttt{is_valid_dist}$ to help you, but you will need to write your own code too. You may find python Set methods helpful here.\n",
    "\n",
    "Do not allow your function to return 'null' distributions i.e distributions for which $Q = \\emptyset$.\n",
    "\n",
    "Finally, please write your solution to this question **without** for-loops."
   ]
  },
  {
   "cell_type": "code",
   "execution_count": 8,
   "metadata": {},
   "outputs": [],
   "source": [
    "def get_vars_to_dim_dict(Q, E):\n",
    "    \"\"\"Returns a dictionary mapping each variable in QuE to a dimension of P\n",
    "\n",
    "    Args:\n",
    "        Q (set): all query variables\n",
    "        E (set): all evidence variables\n",
    "\n",
    "    Returns:\n",
    "        vars (dict): mapping from variables (str) to a dimension of P (int)\n",
    "    \"\"\"\n",
    "    \n",
    "    variables = sorted(Q.union(E))\n",
    "    vars_to_dim_dict = {str(v): i for i, v in enumerate(variables)}\n",
    "    \n",
    "    return vars_to_dim_dict\n",
    "\n",
    "\n",
    "def get_dims_for_vars(M, Q, E):\n",
    "    \"\"\"For each var in M, return its corresponding dimension in P\n",
    "\n",
    "    Args:\n",
    "        M (set): variables for which we want the corresponding dimensions\n",
    "        Q (set): all query variables\n",
    "        E (set): all evidence variables\n",
    "\n",
    "    Returns:\n",
    "        dims (list of ints): dimensions of P indexed by variables in M (in sorted order)\n",
    "    \"\"\"\n",
    "    \n",
    "    v_to_d_dict = get_vars_to_dim_dict(Q, E)\n",
    "    dims = [v_to_d_dict[str(m)] for m in sorted(M)]\n",
    "    \n",
    "    return dims\n"
   ]
  },
  {
   "cell_type": "code",
   "execution_count": 9,
   "metadata": {},
   "outputs": [],
   "source": [
    "def is_valid_dist(dist):\n",
    "    \"\"\"Checks if distribution is valid - raises error if not\n",
    "\n",
    "    Args:\n",
    "        dist (tuple): (Q, E, P) as defined in main text\n",
    "\n",
    "    Returns:\n",
    "        None\n",
    "    \"\"\"\n",
    "    Q, E, P = dist\n",
    "    \n",
    "    assert Q not in [{}, set()], \"Q equals the empty set.\"\n",
    "    \n",
    "    n_vars = len(Q.union(E))\n",
    "    n_dims = len(P.shape)\n",
    "    \n",
    "    assert n_vars == n_dims, \\\n",
    "        \"|Q U E| = {} is not equal to the number of dims in P, which is {}\".format(n_vars, n_dims)\n",
    "    \n",
    "    assert Q.intersection(E) == set(), \"The intersection of Q & E is non-empty. \" \\\n",
    "        \"Intersection is {}\".format(Q.intersection(E))\n",
    "    \n",
    "    assert np.all(P >= 0), \"Not all probabilities are non-negative: {}\".format(P)\n",
    "    \n",
    "    Q_dims = get_dims_for_vars(Q, Q, E)\n",
    "    sums = np.sum(P, axis=tuple(Q_dims))\n",
    "                  \n",
    "    assert np.allclose(sums, 1), \"Distribution does not sum to 1 for all settings \" \\\n",
    "        \"of the evidence variables. Sums are: {}\".format(sums)\n"
   ]
  },
  {
   "cell_type": "code",
   "execution_count": 10,
   "metadata": {},
   "outputs": [],
   "source": [
    "def marginalise(dist, M):\n",
    "    \"\"\"Eliminates variables from a probability distribution via marginalisation\n",
    "\n",
    "    Args:\n",
    "        dist (tuple): (Q, E, P) as defined in main text\n",
    "        M (set): indices of variables to eliminate\n",
    "\n",
    "    Returns:\n",
    "        dist (tuple): (Q\\M, E, P_new)\n",
    "    \n",
    "    -------------------------------\n",
    "    \n",
    "    EXAMPLE: \n",
    "    \n",
    "    Q = {0, 4, 5, 10}\n",
    "    E = {3, 7}\n",
    "    P = np.arange(5*2*7*4*8*6).reshape(5, 2, 7, 4, 8, 6)\n",
    "    \n",
    "    input_dist = (Q, E, P)\n",
    "    M = {0, 5}\n",
    "    \n",
    "    new_Q, new_E, new_P = marginalise(input_dist, M)\n",
    "    \n",
    "    print(new_Q)\n",
    "    >> {4, 10}\n",
    "    \n",
    "    print(new_E)\n",
    "    >> {3, 7}\n",
    "    \n",
    "    print(new_P.shape)\n",
    "    >> (2, 7, 8, 6)\n",
    "\n",
    "    \"\"\"\n",
    "    is_valid_dist(dist)\n",
    "    Q, E, P = dist\n",
    "    P = deepcopy(P)  # prevents us from altering the original array\n",
    "    \n",
    "    # *** YOUR CODE HERE ***"
   ]
  },
  {
   "cell_type": "markdown",
   "metadata": {},
   "source": [
    "# Tests\n",
    "\n",
    "Run the cells below to check your $\\texttt{marginalise}$ implementation against some test-cases"
   ]
  },
  {
   "cell_type": "code",
   "execution_count": null,
   "metadata": {},
   "outputs": [],
   "source": [
    "def does_match_ground_truth(l, fn, mode):\n",
    "    s = lambda x: set(list(x))\n",
    "    a = lambda x: np.array(list(x))\n",
    "    \n",
    "    dist = (s(l[\"Q\"]), s(l[\"E\"]), l[\"P\"])\n",
    "    Q, E, P = fn(dist, s(l[mode]))\n",
    "    \n",
    "    does_match = True\n",
    "    try:\n",
    "        check(a(Q), l[\"Q_true\"], \"Q\")\n",
    "        check(a(E), l[\"E_true\"], \"E\")\n",
    "        check(P, l[\"P_true\"], \"P\")\n",
    "        print(\"**** Passed check *****\")\n",
    "        \n",
    "    except AssertionError as e:\n",
    "        print(\"!!!! Check failed !!!! \\n \\n The inputs we passed to your function were:\" \\\n",
    "              \"\\n Q: {} \\n E: {} \\n P: {} \\n {}: {} \\n\".format(s(l[\"Q\"]), s(l[\"E\"]), l[\"P\"], mode, s(l[mode])))\n",
    "              \n",
    "        print(\"The outputs that your function returned were: \" \\\n",
    "              \"\\n Q: {} \\n E: {} \\n P: {} \\n\".format(Q, E, P))\n",
    "            \n",
    "        print(\"But the actual answer is:\" \\\n",
    "              \"\\n Q: {} \\n E: {} \\n P: {}\".format(s(l[\"Q_true\"]), s(l[\"E_true\"]), l[\"P_true\"]))\n",
    "        does_match = False\n",
    "    \n",
    "    return does_match\n",
    "    \n",
    "def check(x, true_x, name):\n",
    "    assert np.allclose(x, true_x), \"Incorrect {} returned. Should be {}, but got {}\".format(name, x, true_x)"
   ]
  },
  {
   "cell_type": "code",
   "execution_count": null,
   "metadata": {},
   "outputs": [],
   "source": [
    "P1 = np.load(\"jpd_1.npz\")[\"P\"]\n",
    "\n",
    "try:\n",
    "    dist1 = ({i for i in range(P1.ndim)}, set(), P1)\n",
    "    marginalise(dist1, {0, 1, 2})\n",
    "    print(\"Failed check: your marginalise function should throw an error if M == Q\")\n",
    "except:\n",
    "    print(\"**** Passed check *****\")"
   ]
  },
  {
   "cell_type": "code",
   "execution_count": null,
   "metadata": {},
   "outputs": [],
   "source": [
    "for i in range(1, 5):\n",
    "    l = np.load(\"marginal_1_{}.npz\".format(i))\n",
    "    if not does_match_ground_truth(l, marginalise, \"M\"):\n",
    "        break"
   ]
  },
  {
   "cell_type": "code",
   "execution_count": null,
   "metadata": {},
   "outputs": [],
   "source": [
    "for i in range(1, 3):\n",
    "    l = np.load(\"marginal_2_{}.npz\".format(i))\n",
    "    does_match_ground_truth(l, marginalise, \"M\")"
   ]
  },
  {
   "cell_type": "markdown",
   "metadata": {},
   "source": [
    "# QUESTION 2"
   ]
  },
  {
   "cell_type": "markdown",
   "metadata": {},
   "source": [
    "Write a function $\\texttt{condition}$ that takes as input:\n",
    "\n",
    "- A distribution $(Q, E, P)$.\n",
    "- A set of variables to condition on, $C$.\n",
    "\n",
    "and outputs the new conditional distribution.\n",
    "\n",
    "It is fine to use a for-loop in your answer, but if you can vectorise the operations then that's even more efficient (and you might even find it easier).\n",
    "\n",
    "If using for-loops, then the functions $\\texttt{product}$ (which we've already imported) and $\\texttt{get_multidim_slice}$ (which we implement below) may be of use to you.\n",
    "\n",
    "If using vector operations, then $\\texttt{np.transpose}$ should help you leverage numpy's inbuilt broadcasting (https://docs.scipy.org/doc/numpy/user/basics.broadcasting.html)\n",
    "\n",
    "Again, do not allow your function to return 'null' distributions i.e distributions for which $Q = \\emptyset$."
   ]
  },
  {
   "cell_type": "code",
   "execution_count": 11,
   "metadata": {},
   "outputs": [],
   "source": [
    "def get_multidim_slice(array, dim_to_index_dict):\n",
    "    \"\"\"Returns a list that can be used to slice into n-dim 'array' - see Example below.\n",
    "    \n",
    "    Args:\n",
    "        array (np.ndarray): n dimensional array to slice into.\n",
    "        dim_to_index_dict (dict): A key in the dict refers to a dimension of 'array';\n",
    "                                  the corresponding value refers to the index at which we slice that dimension.\n",
    "                                  If a dimension is not included in this dict, we keep the entirety of it.\n",
    "\n",
    "    Returns\n",
    "        slice_idxs (list of ints / slices): n-length list that can be used to slice into 'array'\n",
    "    \n",
    "    -------------------------------\n",
    "    \n",
    "    EXAMPLE: \n",
    "    \n",
    "    test_array = np.arange(1*2*3*4*5*6).reshape(1, 2, 3, 4, 5, 6)\n",
    "    dim_to_index_dict = {0: 0, 3: 1, 5: 2}\n",
    "    \n",
    "    slice_idxs = get_multidim_slice(test_array, dim_to_index_dict)\n",
    "    sliced_array = test_array[slice_idxs]\n",
    "    \n",
    "    print(sliced_array.shape)\n",
    "    >> (2, 3, 5)\n",
    "    \n",
    "    np.all(sliced_array == test_array[0, :, :, 1, :, 2])\n",
    "    >> True\n",
    "    \"\"\"\n",
    "    _validate_multidim_slice_input(array, dim_to_index_dict)\n",
    "    \n",
    "    ix = [dim_to_index_dict.get(dim, slice(None)) for dim in range(array.ndim)]\n",
    "    \n",
    "    return tuple(ix)\n",
    "\n",
    "\n",
    "def _validate_multidim_slice_input(array, dim_to_index_dict):\n",
    "    \n",
    "    dims_to_slice = set(dim_to_index_dict.keys())\n",
    "    all_dims = set(range(array.ndim))\n",
    "    extra_dims = dims_to_slice.difference(all_dims)\n",
    "    \n",
    "    assert extra_dims == set(), \"'dim_to_index_dict' contains keys which\" \\\n",
    "        \" are not valid dimensions of 'array', namely: {}\".format(extra_dims)\n"
   ]
  },
  {
   "cell_type": "code",
   "execution_count": 12,
   "metadata": {},
   "outputs": [],
   "source": [
    "def condition(dist, C):\n",
    "    \"\"\"Computes a conditional distribution\n",
    "\n",
    "    Args:\n",
    "        dist (tuple): (Q, E, P) as defined in main text\n",
    "        C (set): indices of new variables to condition on (i.e add to E)\n",
    "\n",
    "    Returns\n",
    "        dist (tuple): (Q\\C, EuC, P_new)\n",
    "    \n",
    "    -------------------------------\n",
    "    \n",
    "    EXAMPLE: \n",
    "    \n",
    "    Q = {0, 4, 5, 10}\n",
    "    E = {3, 7}\n",
    "    P = np.arange(5*2*7*4*8*6).reshape(5, 2, 7, 4, 8, 6)\n",
    "    \n",
    "    input_dist = (Q, E, P)\n",
    "    C = {0, 5}\n",
    "    \n",
    "    new_Q, new_E, new_P = condition(input_dist, C)\n",
    "    \n",
    "    print(new_Q)\n",
    "    >> {4, 10}\n",
    "    \n",
    "    print(new_E)\n",
    "    >> {0, 3, 5, 7}\n",
    "    \n",
    "    print(new_P.shape)\n",
    "    >> (5, 2, 7, 4, 8, 6)\n",
    "    \n",
    "    \"\"\"\n",
    "    is_valid_dist(dist)\n",
    "    Q, E, P = dist\n",
    "    P = deepcopy(P)  # prevents us from altering the original array\n",
    "    \n",
    "    # *** YOUR CODE HERE ***"
   ]
  },
  {
   "cell_type": "markdown",
   "metadata": {},
   "source": [
    "# Tests\n",
    "\n",
    "Run the cells below to check your $\\texttt{condition}$ implementation against some test-cases"
   ]
  },
  {
   "cell_type": "code",
   "execution_count": null,
   "metadata": {},
   "outputs": [],
   "source": [
    "jpd1 = np.load(\"jpd_1.npz\")[\"P\"]\n",
    "dist1 = ({i for i in range(jpd1.ndim)}, set(), jpd1)\n",
    "try:\n",
    "    condition(dist1, {0, 1, 2})\n",
    "    print(\"Failed check: your condition function should throw an error if C == Q\")\n",
    "except:\n",
    "    print(\"Passed check!\")"
   ]
  },
  {
   "cell_type": "code",
   "execution_count": null,
   "metadata": {},
   "outputs": [],
   "source": [
    "for i in range(1, 5):\n",
    "    l = np.load(\"conditional_1_{}.npz\".format(i))\n",
    "    does_match_ground_truth(l, condition, \"C\")"
   ]
  },
  {
   "cell_type": "code",
   "execution_count": null,
   "metadata": {},
   "outputs": [],
   "source": [
    "for i in range(1, 3):\n",
    "    l = np.load(\"conditional_2_{}.npz\".format(i))\n",
    "    does_match_ground_truth(l, condition, \"C\")"
   ]
  },
  {
   "cell_type": "code",
   "execution_count": null,
   "metadata": {},
   "outputs": [],
   "source": [
    "for i in range(1, 3):\n",
    "    l = np.load(\"conditional_3_{}.npz\".format(i))\n",
    "    does_match_ground_truth(l, condition, \"C\")"
   ]
  },
  {
   "cell_type": "markdown",
   "metadata": {},
   "source": [
    "# QUESTION 3A"
   ]
  },
  {
   "cell_type": "markdown",
   "metadata": {},
   "source": [
    "Write a function $\\texttt{check_equality_of_conditionals}$ that checks if $p(Q|E_1) = p(Q|E_2)$, where $E_1 \\subseteq E_2$.\n",
    "\n",
    "It is fine to use a for-loop in your answer, or you can vectorise it (the latter is not *necessarily* faster here).\n",
    "\n",
    "If using for-loops, then (as before) the pre-defined functions $\\texttt{product}$ and $\\texttt{get_multidim_slice}$ may be of use to you.\n",
    "\n",
    "If using vector operations, then $\\texttt{np.tile}$ should be helpful."
   ]
  },
  {
   "cell_type": "code",
   "execution_count": 13,
   "metadata": {},
   "outputs": [],
   "source": [
    "def check_equality_of_conditionals(dist1, dist2):\n",
    "    \"\"\"Checks if p(Q|E_1) = p(Q|E_2), where E_1 \\subseteq E_2\n",
    "\n",
    "    Args:\n",
    "        dist1 (tuple): (Q, E1, P1) as defined in main text\n",
    "        dist2 (tuple): (Q, E2, P2) as defined in main text\n",
    "\n",
    "    Returns\n",
    "        bool: whether or not the two distributions are equal\n",
    "\n",
    "    \"\"\"\n",
    "    is_valid_dist(dist1)\n",
    "    is_valid_dist(dist2)\n",
    "    Q1, E1, P1 = dist1\n",
    "    Q2, E2, P2 = dist2\n",
    "    P1 = deepcopy(P1); P2 = deepcopy(P2)  # prevents us from altering the original array\n",
    "    \n",
    "    # *** YOUR CODE HERE ***"
   ]
  },
  {
   "cell_type": "markdown",
   "metadata": {},
   "source": [
    "# QUESTION 3B\n",
    "\n",
    "This time, we haven't written a test for your $\\texttt{check_equality_of_conditionals}$ function. Instead, you're going to test it yourself, by using it to confirm an independence relationship.\n",
    "\n",
    "We have loaded a distribution and a DAG over which the distribution factorises (represented as a dictionary mapping each variable to its parents)."
   ]
  },
  {
   "cell_type": "code",
   "execution_count": 14,
   "metadata": {},
   "outputs": [
    {
     "name": "stdout",
     "output_type": "stream",
     "text": [
      "{'0': [], '1': [0], '2': [1], '3': [1, 2], '4': [0, 2]}\n"
     ]
    }
   ],
   "source": [
    "P = np.load(\"jpd_8.npz\")[\"P\"]\n",
    "dist = ({i for i in range(P.ndim)}, set(), P)\n",
    "\n",
    "with open(os.getcwd() + \"/graph_8.json\", \"r\") as f:\n",
    "    graph = json.load(f)\n",
    "    print(graph)"
   ]
  },
  {
   "cell_type": "markdown",
   "metadata": {},
   "source": [
    "- With pen & paper, draw the graph and verify via d-separation that $x_3 \\perp \\!\\!\\! \\perp  x_0 | x_1$\n",
    "- Now verify the same independence numerically with the code you have written so far: $\\texttt{marginalise}, \\texttt{condition}$, and $ \\texttt{check_equality_of_conditionals}$."
   ]
  },
  {
   "cell_type": "code",
   "execution_count": 15,
   "metadata": {},
   "outputs": [],
   "source": [
    "# *** YOUR CODE HERE ***"
   ]
  },
  {
   "cell_type": "markdown",
   "metadata": {},
   "source": [
    "# QUESTION 4A"
   ]
  },
  {
   "cell_type": "markdown",
   "metadata": {},
   "source": [
    "Write a function $\\texttt{does_factorise_over_graph}$ that takes two inputs:\n",
    "- A joint distribution $(Q, \\emptyset, P)$, where $Q=\\{0, \\ldots, n-1\\}$\n",
    "- A DAG $G$, represented as a dictionary that maps each variable to its parents\n",
    "\n",
    "and outputs True if the distribution does indeed factorise over $G$, and False otherwise.\n",
    "\n",
    "You can assume that the ordering $0, \\ldots, n-1$ is a valid topological order (you do not need to check this).\n",
    "\n",
    "You should make use of all three methods you have implemented so far: $\\texttt{marginalise}, \\texttt{condition}$, and $ \\texttt{check_equality_of_conditionals}$.\n",
    "\n",
    "Do not worry too much about writing efficient code. It just needs to be functional."
   ]
  },
  {
   "cell_type": "code",
   "execution_count": 16,
   "metadata": {},
   "outputs": [],
   "source": [
    "def does_factorise_over_graph(dist, G):\n",
    "    \"\"\"Checks if dist factorises according to G\n",
    "\n",
    "    Args:\n",
    "        dist (tuple): (Q, {}, P) as defined in main text\n",
    "        G (dict: int --> list of ints): mapping from each variables to its parents\n",
    "\n",
    "    Returns\n",
    "        bool: whether or ndist factorises according to G\n",
    "\n",
    "    \"\"\"\n",
    "    is_valid_dist(dist)\n",
    "    Q, E, P = dist\n",
    "    P = deepcopy(P)  # prevents us from altering the original array\n",
    "    \n",
    "    # *** YOUR CODE HERE ***"
   ]
  },
  {
   "cell_type": "markdown",
   "metadata": {},
   "source": [
    "# QUESTION 4B"
   ]
  },
  {
   "cell_type": "markdown",
   "metadata": {},
   "source": [
    "In the cell below, we load 4 distributions and graphs for you. For each distribution, determine which of the graphs it factorises over (there can be multiple)."
   ]
  },
  {
   "cell_type": "code",
   "execution_count": 17,
   "metadata": {},
   "outputs": [
    {
     "name": "stdout",
     "output_type": "stream",
     "text": [
      "{'0': [], '1': [0], '2': [0], '3': [0, 1, 2], '4': [0, 3], '5': [2, 3], '6': [4, 5]}\n",
      "{'0': [], '1': [], '2': [0, 1], '3': [0, 2], '4': [1, 2], '5': [2, 4], '6': [3]}\n",
      "{'0': [], '1': [], '2': [0, 1], '3': [0, 2], '4': [0, 1, 2, 3], '5': [1, 2, 3, 4], '6': [3, 4, 5]}\n",
      "{'0': [], '1': [], '2': [0, 1], '3': [2], '4': [0, 3], '5': [1, 3], '6': [4, 5]}\n"
     ]
    }
   ],
   "source": [
    "dists = []\n",
    "graphs = []\n",
    "for i in range(4, 8):\n",
    "    jpd = np.load(\"jpd_{}.npz\".format(i))[\"P\"]\n",
    "    dist = ({i for i in range(jpd.ndim)}, set(), jpd)\n",
    "    dists.append(dist)\n",
    "    \n",
    "    with open(os.getcwd() + \"/graph_{}.json\".format(i), \"r\") as f:\n",
    "        graph = json.load(f)\n",
    "        graphs.append(graph)\n",
    "        print(graph)"
   ]
  },
  {
   "cell_type": "code",
   "execution_count": null,
   "metadata": {},
   "outputs": [],
   "source": [
    "# *** YOUR CODE HERE ***"
   ]
  }
 ],
 "metadata": {
  "kernelspec": {
   "display_name": "Python 3",
   "language": "python",
   "name": "python3"
  },
  "language_info": {
   "codemirror_mode": {
    "name": "ipython",
    "version": 3
   },
   "file_extension": ".py",
   "mimetype": "text/x-python",
   "name": "python",
   "nbconvert_exporter": "python",
   "pygments_lexer": "ipython3",
   "version": "3.7.6"
  }
 },
 "nbformat": 4,
 "nbformat_minor": 4
}
